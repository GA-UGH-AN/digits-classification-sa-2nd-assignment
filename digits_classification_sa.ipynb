{
 "cells": [
  {
   "cell_type": "code",
   "execution_count": 1,
   "id": "e47a73bf-8733-46c5-87fd-e84daa365b42",
   "metadata": {},
   "outputs": [
    {
     "name": "stderr",
     "output_type": "stream",
     "text": [
      "2024-06-21 09:49:27.340612: I tensorflow/core/platform/cpu_feature_guard.cc:210] This TensorFlow binary is optimized to use available CPU instructions in performance-critical operations.\n",
      "To enable the following instructions: AVX2 FMA, in other operations, rebuild TensorFlow with the appropriate compiler flags.\n"
     ]
    }
   ],
   "source": [
    "import pandas as pd\n",
    "import tensorflow as tf\n",
    "from tensorflow import keras\n",
    "import matplotlib.pyplot as plt\n",
    "import numpy as np"
   ]
  },
  {
   "cell_type": "code",
   "execution_count": 2,
   "id": "069844fd-d820-4d57-adb5-7f41f9328584",
   "metadata": {},
   "outputs": [],
   "source": [
    "(X_train, y_train), (X_test, y_test) = keras.datasets.mnist.load_data()"
   ]
  },
  {
   "cell_type": "code",
   "execution_count": 3,
   "id": "a9903a51-df19-4a21-89c4-d1dcbb00c363",
   "metadata": {},
   "outputs": [
    {
     "data": {
      "text/plain": [
       "60000"
      ]
     },
     "execution_count": 3,
     "metadata": {},
     "output_type": "execute_result"
    }
   ],
   "source": [
    "len(X_train)"
   ]
  },
  {
   "cell_type": "code",
   "execution_count": 4,
   "id": "a3594eab-1d4b-41f0-9508-8d6322e0362e",
   "metadata": {},
   "outputs": [
    {
     "data": {
      "text/plain": [
       "10000"
      ]
     },
     "execution_count": 4,
     "metadata": {},
     "output_type": "execute_result"
    }
   ],
   "source": [
    "len(X_test)"
   ]
  },
  {
   "cell_type": "code",
   "execution_count": 5,
   "id": "5c45e45b-b875-4e1b-a2eb-90dedfe565e1",
   "metadata": {},
   "outputs": [
    {
     "data": {
      "text/plain": [
       "(28, 28)"
      ]
     },
     "execution_count": 5,
     "metadata": {},
     "output_type": "execute_result"
    }
   ],
   "source": [
    "X_train[0].shape"
   ]
  },
  {
   "cell_type": "code",
   "execution_count": 6,
   "id": "3df67860-dbbc-414d-8b54-b7815c7be58f",
   "metadata": {},
   "outputs": [
    {
     "data": {
      "text/plain": [
       "<matplotlib.image.AxesImage at 0x132c8a3d0>"
      ]
     },
     "execution_count": 6,
     "metadata": {},
     "output_type": "execute_result"
    },
    {
     "data": {
      "image/png": "[encoded data removed]",
      "text/plain": [
       "<Figure size 480x480 with 1 Axes>"
      ]
     },
     "metadata": {},
     "output_type": "display_data"
    }
   ],
   "source": [
    "plt.matshow(X_train[0])"
   ]
  },
  {
   "cell_type": "code",
   "execution_count": 7,
   "id": "667f3197-43e2-4fca-bcd8-26fbc74afe7b",
   "metadata": {},
   "outputs": [
    {
     "data": {
      "text/plain": [
       "(60000, 784)"
      ]
     },
     "execution_count": 7,
     "metadata": {},
     "output_type": "execute_result"
    }
   ],
   "source": [
    "X_train_flattened = X_train.reshape(-1, 28 * 28) / 255.0\n",
    "X_test_flattened = X_test.reshape(-1, 28 * 28) / 255.0\n",
    "X_train_flattened.shape"
   ]
  },
  {
   "cell_type": "code",
   "execution_count": 8,
   "id": "2cf895d8-c5c7-4978-bd0c-96b877669a40",
   "metadata": {},
   "outputs": [],
   "source": [
    "from sklearn.preprocessing import OneHotEncoder\n",
    "\n",
    "X_train_flattened = X_train_flattened.astype('float32')\n",
    "X_test_flattened = X_test_flattened.astype('float32')\n",
    "\n",
    "# One-hot encode the labels\n",
    "one_hot_encoder = OneHotEncoder(sparse_output=False)\n",
    "y_train = one_hot_encoder.fit_transform(y_train.reshape(-1, 1))\n",
    "y_test = one_hot_encoder.transform(y_test.reshape(-1, 1))"
   ]
  },
  {
   "cell_type": "code",
   "execution_count": 9,
   "id": "8381161a-68e6-45e8-81d0-553cc931203c",
   "metadata": {},
   "outputs": [
    {
     "name": "stdout",
     "output_type": "stream",
     "text": [
      "float32 float64\n"
     ]
    }
   ],
   "source": [
    "print(X_train_flattened.dtype, y_train.dtype)"
   ]
  },
  {
   "cell_type": "code",
   "execution_count": 10,
   "id": "9b405de1-97ee-4fdd-85d1-779a7c74ef0a",
   "metadata": {},
   "outputs": [
    {
     "data": {
      "text/plain": [
       "60000"
      ]
     },
     "execution_count": 10,
     "metadata": {},
     "output_type": "execute_result"
    }
   ],
   "source": [
    "len(y_train)"
   ]
  },
  {
   "cell_type": "code",
   "execution_count": 11,
   "id": "0c3025cd-8821-4f30-a58a-30b899599036",
   "metadata": {},
   "outputs": [],
   "source": [
    "\n",
    "import tensorflow as tf\n",
    "from tensorflow import keras\n",
    "# from tensorflow.keras.layers import TextVectorization, Embedding, Dense, Dropout, Flatten\n",
    "from tensorflow.keras.models import Sequential\n",
    "from tensorflow.keras.optimizers import Adam\n",
    "from tensorflow.keras.layers import Dense\n",
    "\n",
    "# Define the neural network structure\n",
    "input_size = 28 * 28\n",
    "hidden_layers = (128, 64)\n",
    "output_size = 10\n",
    "\n",
    "def create_model(weights=None):\n",
    "    model = Sequential([\n",
    "        Dense(hidden_layers[0], activation='relu', input_shape=(input_size,)),\n",
    "        Dense(hidden_layers[1], activation='relu'),\n",
    "        Dense(output_size, activation='softmax')\n",
    "    ])\n",
    "    if weights is not None:\n",
    "        model.set_weights(weights)\n",
    "    model.compile(optimizer='adam', loss='categorical_crossentropy', metrics=['accuracy'])\n",
    "    return model"
   ]
  },
  {
   "cell_type": "code",
   "execution_count": 12,
   "id": "ed273ed8-2b8e-4bd6-b118-5a658a7c9d69",
   "metadata": {},
   "outputs": [],
   "source": [
    "import mlrose_hiive\n",
    "from sklearn.metrics import accuracy_score\n",
    "\n",
    "# Define a fitness function to optimize the neural network weights\n",
    "def fitness_function(weights):\n",
    "    model = create_model()\n",
    "    initial_weights = model.get_weights()\n",
    "    \n",
    "    weights = []\n",
    "    start = 0\n",
    "    for w in initial_weights:\n",
    "        size = np.prod(w.shape)\n",
    "        weights.append(flat_weights[start:start + size].reshape(w.shape))\n",
    "        start += size\n",
    "    \n",
    "    # Create and compile the model with the reshaped weights\n",
    "    model.set_weights(weights)\n",
    "    model.fit(X_train_flattened, y_train, epochs=1, batch_size=128, verbose=0)\n",
    "    y_pred = model.predict(X_train_flattened)\n",
    "    accuracy = accuracy_score(np.argmax(y_train, axis=1), np.argmax(y_pred, axis=1))\n",
    "    return -accuracy"
   ]
  },
  {
   "cell_type": "code",
   "execution_count": 13,
   "id": "0a5b2773-8a90-43a4-af49-999498c89d2b",
   "metadata": {},
   "outputs": [
    {
     "data": {
      "text/plain": [
       "[array([[ 0.04933555, -0.05175035,  0.00897311, ..., -0.0485284 ,\n",
       "          0.00864103, -0.07225052],\n",
       "        [-0.00425825, -0.03130114, -0.05208448, ...,  0.01712126,\n",
       "          0.04989598, -0.0731928 ],\n",
       "        [ 0.07226679,  0.00074886, -0.07983489, ..., -0.02963368,\n",
       "         -0.07261953, -0.01261418],\n",
       "        ...,\n",
       "        [-0.02533507,  0.01475886, -0.07790871, ..., -0.03423038,\n",
       "         -0.05133354, -0.02847402],\n",
       "        [ 0.0711079 , -0.04805684,  0.00905131, ..., -0.06918758,\n",
       "          0.00613424, -0.0437852 ],\n",
       "        [ 0.07238918,  0.03010298, -0.03462826, ..., -0.03147376,\n",
       "          0.04372422, -0.02832864]], dtype=float32),\n",
       " array([0., 0., 0., 0., 0., 0., 0., 0., 0., 0., 0., 0., 0., 0., 0., 0., 0.,\n",
       "        0., 0., 0., 0., 0., 0., 0., 0., 0., 0., 0., 0., 0., 0., 0., 0., 0.,\n",
       "        0., 0., 0., 0., 0., 0., 0., 0., 0., 0., 0., 0., 0., 0., 0., 0., 0.,\n",
       "        0., 0., 0., 0., 0., 0., 0., 0., 0., 0., 0., 0., 0., 0., 0., 0., 0.,\n",
       "        0., 0., 0., 0., 0., 0., 0., 0., 0., 0., 0., 0., 0., 0., 0., 0., 0.,\n",
       "        0., 0., 0., 0., 0., 0., 0., 0., 0., 0., 0., 0., 0., 0., 0., 0., 0.,\n",
       "        0., 0., 0., 0., 0., 0., 0., 0., 0., 0., 0., 0., 0., 0., 0., 0., 0.,\n",
       "        0., 0., 0., 0., 0., 0., 0., 0., 0.], dtype=float32),\n",
       " array([[-0.1216557 , -0.01640849, -0.00041164, ...,  0.13901363,\n",
       "         -0.04046927, -0.04387188],\n",
       "        [-0.08045783, -0.11543448, -0.01902167, ..., -0.1662772 ,\n",
       "         -0.1271529 ,  0.05510178],\n",
       "        [-0.13019094, -0.15244566, -0.01188381, ..., -0.03654541,\n",
       "          0.14455526, -0.10528704],\n",
       "        ...,\n",
       "        [-0.16906168, -0.12014721,  0.10606073, ...,  0.14510427,\n",
       "         -0.0830378 ,  0.04776967],\n",
       "        [ 0.14837338, -0.1167447 , -0.00446352, ...,  0.04297571,\n",
       "         -0.1717039 ,  0.03151304],\n",
       "        [-0.03543286, -0.12735897, -0.12425637, ..., -0.1287593 ,\n",
       "         -0.00655477,  0.10054733]], dtype=float32),\n",
       " array([0., 0., 0., 0., 0., 0., 0., 0., 0., 0., 0., 0., 0., 0., 0., 0., 0.,\n",
       "        0., 0., 0., 0., 0., 0., 0., 0., 0., 0., 0., 0., 0., 0., 0., 0., 0.,\n",
       "        0., 0., 0., 0., 0., 0., 0., 0., 0., 0., 0., 0., 0., 0., 0., 0., 0.,\n",
       "        0., 0., 0., 0., 0., 0., 0., 0., 0., 0., 0., 0., 0.], dtype=float32),\n",
       " array([[ 8.74566734e-02,  6.98589981e-02, -2.61686146e-01,\n",
       "          2.83997744e-01, -1.32189050e-01, -4.41673994e-02,\n",
       "          1.71169043e-01,  2.68777996e-01,  3.56105268e-02,\n",
       "         -2.08139718e-02],\n",
       "        [-2.72011757e-03, -2.54043192e-01,  2.73058265e-01,\n",
       "          5.89336157e-02,  6.25044107e-04, -1.08895764e-01,\n",
       "         -2.89510787e-02,  1.07057095e-02, -4.07565236e-02,\n",
       "         -2.71183163e-01],\n",
       "        [-5.54652363e-02,  1.74120784e-01,  9.53855813e-02,\n",
       "         -9.16596800e-02,  8.65732133e-02,  1.12370044e-01,\n",
       "          6.61607385e-02,  2.77149528e-01, -2.16900408e-01,\n",
       "         -7.97991902e-02],\n",
       "        [ 2.15628237e-01,  2.38271624e-01, -5.07093370e-02,\n",
       "         -1.74602598e-01, -3.29266787e-02,  1.28234237e-01,\n",
       "         -1.87942058e-01, -6.95580542e-02,  1.56204522e-01,\n",
       "         -1.38169825e-02],\n",
       "        [ 2.61350483e-01, -3.91838700e-02,  2.69831508e-01,\n",
       "         -4.29045409e-02, -1.23274595e-01,  1.69111937e-01,\n",
       "          1.65574640e-01, -1.23364344e-01, -2.16452211e-01,\n",
       "          5.57839870e-02],\n",
       "        [ 1.90259308e-01,  1.04335785e-01, -2.13752747e-01,\n",
       "          3.27902734e-02,  2.61025459e-01,  1.67165101e-01,\n",
       "         -2.23108739e-01,  1.01428926e-02,  2.22877890e-01,\n",
       "          7.22550154e-02],\n",
       "        [-2.26397082e-01,  1.51633233e-01, -2.11996719e-01,\n",
       "         -8.92431736e-02, -8.68836194e-02,  7.19008446e-02,\n",
       "          2.74389535e-01, -2.63100147e-01,  1.24210805e-01,\n",
       "         -4.50568944e-02],\n",
       "        [-2.16099799e-01, -9.95481908e-02, -1.73808575e-01,\n",
       "          8.89990330e-02, -2.56046146e-01, -1.14219278e-01,\n",
       "          3.30403447e-03,  1.72326684e-01, -1.99295625e-01,\n",
       "          6.78620338e-02],\n",
       "        [-9.65307951e-02, -6.42560571e-02, -1.54350951e-01,\n",
       "         -2.41237968e-01,  2.47266442e-01,  2.19832867e-01,\n",
       "          1.00804865e-01,  1.06186241e-01, -1.51955962e-01,\n",
       "         -8.97050798e-02],\n",
       "        [-2.05795586e-01, -2.23738819e-01,  1.86562002e-01,\n",
       "          7.79244304e-03, -7.54900575e-02,  1.81997776e-01,\n",
       "         -1.14727020e-01, -3.07434797e-03, -5.46324402e-02,\n",
       "         -2.13570386e-01],\n",
       "        [ 2.34817773e-01, -1.82541490e-01, -1.55246884e-01,\n",
       "          3.54744196e-02, -1.91472501e-01,  2.34301537e-01,\n",
       "         -9.47719812e-02, -2.33776614e-01, -1.15248755e-01,\n",
       "          1.80148870e-01],\n",
       "        [-1.05022833e-01, -1.56513453e-02,  1.30320251e-01,\n",
       "          2.12486118e-01,  1.03251070e-01, -1.25730351e-01,\n",
       "         -2.17896551e-01,  1.57229662e-01,  3.04822028e-02,\n",
       "         -1.95373878e-01],\n",
       "        [-1.92546159e-01,  2.75126427e-01, -2.02269301e-01,\n",
       "          5.43143749e-02,  1.95579648e-01,  2.15101957e-01,\n",
       "          5.77907860e-02,  1.22017086e-01,  2.20112830e-01,\n",
       "          6.81921244e-02],\n",
       "        [-1.17250323e-01, -3.18823457e-02,  2.15916425e-01,\n",
       "         -5.45421243e-03, -2.02013433e-01, -1.93519011e-01,\n",
       "          1.38822824e-01,  1.52660251e-01, -1.06481016e-01,\n",
       "         -1.25207201e-01],\n",
       "        [ 2.39649117e-02, -2.40701705e-01,  9.49172676e-02,\n",
       "         -1.01739436e-01, -2.13036448e-01, -2.54450321e-01,\n",
       "          2.30573207e-01, -1.18864119e-01,  1.70988202e-01,\n",
       "         -5.62903285e-03],\n",
       "        [-2.09574103e-01,  8.68681073e-03, -8.64668489e-02,\n",
       "         -1.93277597e-02,  2.65720040e-01,  1.54119939e-01,\n",
       "         -5.64194769e-02, -1.65124953e-01,  2.09517896e-01,\n",
       "          1.58921331e-01],\n",
       "        [-2.76565880e-01, -6.63618296e-02,  2.24935561e-01,\n",
       "         -7.27897137e-02, -1.83451802e-01,  1.08541459e-01,\n",
       "          9.70080495e-02, -1.21845067e-01,  2.08214343e-01,\n",
       "          1.00103855e-01],\n",
       "        [ 1.71029329e-01,  1.38779372e-01,  1.09373420e-01,\n",
       "         -2.57427752e-01,  3.45996022e-03,  1.47902369e-02,\n",
       "          4.56494987e-02,  2.21154362e-01, -6.18990064e-02,\n",
       "          4.52243686e-02],\n",
       "        [ 1.19419307e-01,  1.73426300e-01, -2.79210836e-01,\n",
       "          2.84610122e-01, -4.91178781e-02,  2.42912978e-01,\n",
       "          1.45725310e-02, -2.68049955e-01, -2.60902345e-02,\n",
       "         -6.76488727e-02],\n",
       "        [ 1.39833093e-01,  3.50329280e-03, -1.25016153e-01,\n",
       "         -3.07108462e-02,  1.75007880e-02,  6.15137517e-02,\n",
       "         -1.96830720e-01,  1.83247119e-01, -3.25476527e-02,\n",
       "         -7.22834468e-03],\n",
       "        [ 2.67008573e-01, -2.77441502e-01, -2.34493613e-02,\n",
       "          8.28641653e-03,  2.06666261e-01, -1.94781482e-01,\n",
       "         -1.94087654e-01,  2.53920883e-01, -1.50594518e-01,\n",
       "          1.20375454e-02],\n",
       "        [-3.64006311e-02, -2.41232544e-01, -1.77271053e-01,\n",
       "         -2.64801174e-01, -2.21470445e-01, -5.70227504e-02,\n",
       "          3.74339521e-02, -2.30381489e-02, -2.17207879e-01,\n",
       "         -1.35938153e-01],\n",
       "        [ 3.74253392e-02, -6.94596171e-02, -8.70088637e-02,\n",
       "         -1.20835900e-02,  4.86237705e-02,  1.37796283e-01,\n",
       "          1.56183630e-01,  2.35517949e-01, -4.78870422e-02,\n",
       "          2.51611680e-01],\n",
       "        [ 1.74051017e-01, -1.80674404e-01,  8.76877606e-02,\n",
       "          1.30466551e-01,  2.41159827e-01, -1.75446332e-01,\n",
       "         -2.06316173e-01, -1.31091624e-01,  1.15277678e-01,\n",
       "          2.04860002e-01],\n",
       "        [ 2.22492248e-01,  2.46034116e-01, -8.86629820e-02,\n",
       "          4.44770455e-02,  3.80009413e-03, -2.08378494e-01,\n",
       "         -5.65271527e-02,  9.47108865e-02, -2.80935079e-01,\n",
       "         -2.53038108e-02],\n",
       "        [ 2.43909150e-01,  1.51879042e-01,  1.49326146e-01,\n",
       "          1.87899828e-01, -2.14804545e-01,  1.35462999e-01,\n",
       "          2.31613904e-01,  1.28802121e-01, -2.23132834e-01,\n",
       "          9.88669097e-02],\n",
       "        [-2.59637952e-01,  7.92638958e-02,  1.76580489e-01,\n",
       "          2.73826689e-01, -1.98134780e-01,  2.11614847e-01,\n",
       "         -6.75050169e-02,  2.61034280e-01,  1.31454170e-02,\n",
       "          1.43855184e-01],\n",
       "        [-2.35535830e-01, -1.85673237e-02,  6.91165626e-02,\n",
       "         -1.55990124e-02, -2.60780990e-01, -1.22740716e-01,\n",
       "         -5.40196896e-04,  1.11594230e-01, -2.64736354e-01,\n",
       "          1.73821688e-01],\n",
       "        [-9.27565694e-02, -1.61426559e-01, -1.32105276e-01,\n",
       "          4.75393236e-02, -3.00496817e-02,  2.78828949e-01,\n",
       "          2.77521700e-01,  1.96844965e-01, -1.59038082e-01,\n",
       "         -2.97947526e-02],\n",
       "        [ 2.32029766e-01, -9.63480920e-02, -1.89739704e-01,\n",
       "          1.42990410e-01,  1.62950069e-01,  6.91848099e-02,\n",
       "          1.71319366e-01,  2.18838900e-01,  1.97764516e-01,\n",
       "         -6.45121336e-02],\n",
       "        [-8.47705752e-02, -2.57453263e-01,  7.37792552e-02,\n",
       "          2.83694416e-01,  2.80703634e-01, -1.10485256e-02,\n",
       "         -5.29091358e-02,  1.58699393e-01,  7.39830732e-02,\n",
       "          1.29512459e-01],\n",
       "        [-1.03540406e-01,  1.23546094e-01,  1.46197766e-01,\n",
       "          4.15820479e-02,  1.29372656e-01, -1.14587039e-01,\n",
       "          1.19501859e-01,  1.50772721e-01, -4.36078012e-02,\n",
       "         -1.19211435e-01],\n",
       "        [-1.59286499e-01, -1.04678020e-01,  1.58841670e-01,\n",
       "          5.14576137e-02,  1.34459943e-01, -3.84752452e-02,\n",
       "         -6.43462092e-02, -1.66043222e-01,  2.34708518e-01,\n",
       "         -2.88341045e-02],\n",
       "        [-2.72979289e-01, -6.82943612e-02, -1.52497724e-01,\n",
       "         -8.07468444e-02, -7.18533844e-02,  2.58139700e-01,\n",
       "         -4.86393273e-02,  3.66366804e-02, -3.84299606e-02,\n",
       "         -1.72972381e-02],\n",
       "        [ 2.71775275e-01, -7.18009770e-02,  1.74561530e-01,\n",
       "         -2.67324746e-02,  1.16637439e-01, -1.94662392e-01,\n",
       "          8.54750574e-02, -2.65641212e-02, -6.95101917e-02,\n",
       "         -1.07716262e-01],\n",
       "        [ 1.95934713e-01, -3.34693789e-02, -2.48010099e-01,\n",
       "          2.81808823e-01, -5.65644205e-02,  1.93418473e-01,\n",
       "         -2.52414465e-01,  1.57836646e-01,  4.49473262e-02,\n",
       "         -1.65901735e-01],\n",
       "        [ 3.97634506e-03, -1.66013837e-02, -9.36332345e-03,\n",
       "         -2.05572441e-01, -2.12532431e-01,  2.38163769e-02,\n",
       "         -3.93024087e-03,  5.32267392e-02,  8.42962861e-02,\n",
       "         -1.67625517e-01],\n",
       "        [ 1.65401340e-01,  1.68642700e-01, -1.19360656e-01,\n",
       "         -2.31762141e-01,  8.81061554e-02,  1.41268194e-01,\n",
       "         -2.76527256e-01,  2.79268593e-01,  2.75880784e-01,\n",
       "          2.12555230e-01],\n",
       "        [-1.77366301e-01, -7.81901479e-02, -9.63818431e-02,\n",
       "         -2.02773660e-01, -2.08096087e-01, -2.18626708e-01,\n",
       "          1.95798993e-01,  1.33480489e-01,  1.29047066e-01,\n",
       "          2.76722610e-02],\n",
       "        [ 1.61781222e-01, -1.18536010e-01, -9.66654122e-02,\n",
       "          1.54995620e-01, -2.59561151e-01, -2.45756596e-01,\n",
       "          2.54338384e-02,  2.42016286e-01,  2.26422757e-01,\n",
       "         -2.84309089e-01],\n",
       "        [-9.10270214e-02, -2.29363143e-01,  6.91281855e-02,\n",
       "          3.06279361e-02, -1.24329865e-01, -2.25438818e-01,\n",
       "          2.14712352e-01,  2.61991054e-01, -2.53555357e-01,\n",
       "          1.68211132e-01],\n",
       "        [-1.67306572e-01,  8.87783170e-02,  9.59870517e-02,\n",
       "         -8.05414170e-02,  2.12163597e-01, -2.61255324e-01,\n",
       "         -2.78073549e-03,  2.04133183e-01, -8.06248486e-02,\n",
       "         -1.94117397e-01],\n",
       "        [ 1.30044103e-01, -2.96794176e-02, -1.77697659e-01,\n",
       "          1.24242753e-01, -1.27476126e-01, -2.69701749e-01,\n",
       "         -1.00638822e-01, -8.86972100e-02,  2.23236293e-01,\n",
       "          2.22579092e-01],\n",
       "        [ 2.42511302e-01,  2.13918388e-02, -1.11141130e-01,\n",
       "         -2.00649053e-01,  5.67739308e-02,  2.30503649e-01,\n",
       "         -1.00324765e-01,  1.74761415e-02,  1.75684214e-01,\n",
       "         -2.10533842e-01],\n",
       "        [ 1.21133506e-01, -1.97559088e-01,  3.03607285e-02,\n",
       "          1.98886871e-01,  1.24446839e-01, -5.27767539e-02,\n",
       "         -2.11800665e-01, -2.08883524e-01, -1.16692409e-01,\n",
       "         -1.95882499e-01],\n",
       "        [ 2.07953930e-01,  2.38433182e-02,  4.32656407e-02,\n",
       "         -2.67998219e-01, -1.34421781e-01,  3.88450325e-02,\n",
       "          8.94590616e-02,  6.07918203e-02,  2.49051154e-02,\n",
       "         -1.04554057e-01],\n",
       "        [ 9.37044919e-02,  1.52018905e-01,  2.63380736e-01,\n",
       "         -2.04513371e-01,  2.48110145e-01, -1.82975233e-02,\n",
       "         -3.25948894e-02,  1.29112244e-01,  1.00790501e-01,\n",
       "         -9.01356339e-03],\n",
       "        [-1.79810107e-01, -1.70761853e-01,  9.25488174e-02,\n",
       "         -1.36092126e-01, -2.62856483e-01,  1.52486175e-01,\n",
       "          1.42641187e-01,  9.66627598e-02,  1.19323730e-01,\n",
       "          5.26413321e-03],\n",
       "        [-2.00382590e-01, -2.04134285e-02, -1.13653764e-01,\n",
       "         -3.32277715e-02,  1.03752345e-01, -2.06671029e-01,\n",
       "          1.95805520e-01, -1.51623517e-01,  1.33442968e-01,\n",
       "          3.18441093e-02],\n",
       "        [-9.62928385e-02, -1.88657269e-01, -9.31269675e-02,\n",
       "          3.37502360e-02, -8.88198614e-03, -1.52346119e-01,\n",
       "          1.09662771e-01,  1.61742598e-01, -1.53013200e-01,\n",
       "          1.39540344e-01],\n",
       "        [ 1.22609496e-01, -2.79992044e-01,  1.33644104e-01,\n",
       "         -7.09897727e-02, -2.68216938e-01, -1.94499061e-01,\n",
       "          1.10291570e-01,  2.84287900e-01,  8.93754065e-02,\n",
       "          1.08317763e-01],\n",
       "        [-1.42367795e-01, -2.45119587e-01,  1.45085394e-01,\n",
       "         -1.39366552e-01, -1.93259135e-01,  4.86604273e-02,\n",
       "          4.31682169e-02, -6.68137670e-02, -1.89245254e-01,\n",
       "          1.51701868e-01],\n",
       "        [-2.55645573e-01,  8.90437663e-02,  1.01869732e-01,\n",
       "         -1.15215689e-01, -1.85455143e-01,  2.67636508e-01,\n",
       "          1.45932436e-02, -2.24089935e-01, -1.31715387e-01,\n",
       "          2.11666793e-01],\n",
       "        [-1.81466341e-04, -2.30227992e-01, -1.89042538e-01,\n",
       "         -8.90484005e-02,  1.35613233e-01, -5.65958023e-03,\n",
       "          2.13819474e-01, -6.13353252e-02, -2.30607629e-01,\n",
       "         -1.40917271e-01],\n",
       "        [-1.81782424e-01,  1.63473815e-01, -2.79491961e-01,\n",
       "         -2.56606817e-01,  2.85726786e-02,  2.39839226e-01,\n",
       "          1.53767377e-01,  1.26599342e-01, -2.41873264e-02,\n",
       "         -2.08074689e-01],\n",
       "        [-2.11647779e-01,  1.73322141e-01,  3.59313786e-02,\n",
       "          1.97597802e-01, -7.83515871e-02,  1.12957239e-01,\n",
       "          6.14657402e-02,  1.41493976e-01, -2.60370612e-01,\n",
       "         -9.08382833e-02],\n",
       "        [ 2.41071075e-01, -3.41361165e-02,  2.79152840e-01,\n",
       "         -1.31663516e-01,  2.66169220e-01,  3.33324373e-02,\n",
       "         -1.71608701e-01, -1.73819035e-01, -6.85348362e-02,\n",
       "         -2.09670633e-01],\n",
       "        [-1.44008458e-01,  1.00605756e-01,  1.26497149e-02,\n",
       "         -1.52725875e-02,  2.76192874e-01,  1.18409663e-01,\n",
       "          2.09314972e-01, -1.76088020e-01,  2.51698643e-01,\n",
       "          1.10185444e-02],\n",
       "        [ 1.47409648e-01, -1.63848996e-02,  2.79584080e-01,\n",
       "          2.31269747e-01,  5.85812032e-02,  6.19050562e-02,\n",
       "          1.18298799e-01,  1.42588288e-01,  1.24207735e-01,\n",
       "         -4.76909876e-02],\n",
       "        [ 2.44845450e-02, -9.25145447e-02, -1.90210313e-01,\n",
       "         -8.38286132e-02, -9.45275128e-02, -2.72221714e-01,\n",
       "         -1.28974155e-01, -2.42271245e-01,  2.04113036e-01,\n",
       "         -5.46694994e-02],\n",
       "        [ 1.29743695e-01,  1.74800158e-02, -2.72746384e-02,\n",
       "         -2.78805465e-01, -1.44596994e-01,  2.00435549e-01,\n",
       "         -1.07175857e-01,  5.14604449e-02,  1.13008559e-01,\n",
       "          1.01620853e-01],\n",
       "        [ 9.32082236e-02, -9.79547650e-02,  2.84721822e-01,\n",
       "          1.77578241e-01,  2.77807862e-01,  7.00173974e-02,\n",
       "         -3.05908024e-02,  2.23434478e-01,  1.45411611e-01,\n",
       "          1.25325203e-01],\n",
       "        [-2.80816346e-01, -1.53657809e-01,  1.73565269e-01,\n",
       "          4.61697876e-02, -1.56226456e-01,  7.12054968e-03,\n",
       "         -4.32714075e-02, -1.40214682e-01, -1.90354645e-01,\n",
       "         -2.06792623e-01],\n",
       "        [ 9.01192725e-02,  1.20683551e-01, -3.17521989e-02,\n",
       "         -1.12930685e-01, -1.30269885e-01,  2.39848405e-01,\n",
       "         -2.78029442e-02, -2.70158291e-01,  2.11982459e-01,\n",
       "          2.03307539e-01]], dtype=float32),\n",
       " array([0., 0., 0., 0., 0., 0., 0., 0., 0., 0.], dtype=float32)]"
      ]
     },
     "execution_count": 13,
     "metadata": {},
     "output_type": "execute_result"
    }
   ],
   "source": [
    "# Initialize the weights with a random guess\n",
    "model = create_model()\n",
    "initial_weights = model.get_weights()\n",
    "initial_weights"
   ]
  },
  {
   "cell_type": "code",
   "execution_count": 14,
   "id": "6ca23f24-27f7-49bf-a569-86162d1137ba",
   "metadata": {},
   "outputs": [
    {
     "data": {
      "text/plain": [
       "array([ 0.04933555, -0.05175035,  0.00897311, ...,  0.        ,\n",
       "        0.        ,  0.        ], dtype=float32)"
      ]
     },
     "execution_count": 14,
     "metadata": {},
     "output_type": "execute_result"
    }
   ],
   "source": [
    "# Flatten the weights for the optimization algorithm\n",
    "flat_weights = np.concatenate([w.flatten() for w in initial_weights])\n",
    "discrete_initial_weights = ((flat_weights + 1) * 10).astype(int)\n",
    "flat_weights"
   ]
  },
  {
   "cell_type": "code",
   "execution_count": 15,
   "id": "809848ff-d4e3-47f9-8dae-9eb8d5a0c5aa",
   "metadata": {},
   "outputs": [],
   "source": [
    "# Define the optimization problem\n",
    "problem = mlrose_hiive.DiscreteOpt(length=flat_weights.size, fitness_fn=mlrose_hiive.CustomFitness(fitness_function), maximize=False, max_val=21)"
   ]
  },
  {
   "cell_type": "code",
   "execution_count": 16,
   "id": "c656fd64-40f3-49a5-bac2-0d92ba6423b0",
   "metadata": {},
   "outputs": [
    {
     "name": "stdout",
     "output_type": "stream",
     "text": [
      "\u001b[1m1875/1875\u001b[0m \u001b[32m━━━━━━━━━━━━━━━━━━━━\u001b[0m\u001b[37m\u001b[0m \u001b[1m1s\u001b[0m 693us/step\n",
      "\u001b[1m1875/1875\u001b[0m \u001b[32m━━━━━━━━━━━━━━━━━━━━\u001b[0m\u001b[37m\u001b[0m \u001b[1m1s\u001b[0m 691us/step\n",
      "\u001b[1m1875/1875\u001b[0m \u001b[32m━━━━━━━━━━━━━━━━━━━━\u001b[0m\u001b[37m\u001b[0m \u001b[1m1s\u001b[0m 689us/step\n",
      "\u001b[1m1875/1875\u001b[0m \u001b[32m━━━━━━━━━━━━━━━━━━━━\u001b[0m\u001b[37m\u001b[0m \u001b[1m1s\u001b[0m 748us/step\n",
      "\u001b[1m1875/1875\u001b[0m \u001b[32m━━━━━━━━━━━━━━━━━━━━\u001b[0m\u001b[37m\u001b[0m \u001b[1m1s\u001b[0m 705us/step\n",
      "\u001b[1m1875/1875\u001b[0m \u001b[32m━━━━━━━━━━━━━━━━━━━━\u001b[0m\u001b[37m\u001b[0m \u001b[1m1s\u001b[0m 694us/step\n",
      "\u001b[1m1875/1875\u001b[0m \u001b[32m━━━━━━━━━━━━━━━━━━━━\u001b[0m\u001b[37m\u001b[0m \u001b[1m1s\u001b[0m 690us/step\n",
      "\u001b[1m1875/1875\u001b[0m \u001b[32m━━━━━━━━━━━━━━━━━━━━\u001b[0m\u001b[37m\u001b[0m \u001b[1m1s\u001b[0m 757us/step\n",
      "\u001b[1m1875/1875\u001b[0m \u001b[32m━━━━━━━━━━━━━━━━━━━━\u001b[0m\u001b[37m\u001b[0m \u001b[1m1s\u001b[0m 705us/step\n",
      "\u001b[1m1875/1875\u001b[0m \u001b[32m━━━━━━━━━━━━━━━━━━━━\u001b[0m\u001b[37m\u001b[0m \u001b[1m1s\u001b[0m 702us/step\n",
      "\u001b[1m1875/1875\u001b[0m \u001b[32m━━━━━━━━━━━━━━━━━━━━\u001b[0m\u001b[37m\u001b[0m \u001b[1m1s\u001b[0m 691us/step\n",
      "\u001b[1m1875/1875\u001b[0m \u001b[32m━━━━━━━━━━━━━━━━━━━━\u001b[0m\u001b[37m\u001b[0m \u001b[1m1s\u001b[0m 711us/step\n",
      "\u001b[1m1875/1875\u001b[0m \u001b[32m━━━━━━━━━━━━━━━━━━━━\u001b[0m\u001b[37m\u001b[0m \u001b[1m1s\u001b[0m 712us/step\n",
      "\u001b[1m1875/1875\u001b[0m \u001b[32m━━━━━━━━━━━━━━━━━━━━\u001b[0m\u001b[37m\u001b[0m \u001b[1m1s\u001b[0m 724us/step\n",
      "\u001b[1m1875/1875\u001b[0m \u001b[32m━━━━━━━━━━━━━━━━━━━━\u001b[0m\u001b[37m\u001b[0m \u001b[1m1s\u001b[0m 710us/step\n",
      "\u001b[1m1875/1875\u001b[0m \u001b[32m━━━━━━━━━━━━━━━━━━━━\u001b[0m\u001b[37m\u001b[0m \u001b[1m1s\u001b[0m 712us/step\n",
      "\u001b[1m1875/1875\u001b[0m \u001b[32m━━━━━━━━━━━━━━━━━━━━\u001b[0m\u001b[37m\u001b[0m \u001b[1m1s\u001b[0m 692us/step\n",
      "\u001b[1m1875/1875\u001b[0m \u001b[32m━━━━━━━━━━━━━━━━━━━━\u001b[0m\u001b[37m\u001b[0m \u001b[1m1s\u001b[0m 711us/step\n",
      "\u001b[1m1875/1875\u001b[0m \u001b[32m━━━━━━━━━━━━━━━━━━━━\u001b[0m\u001b[37m\u001b[0m \u001b[1m1s\u001b[0m 702us/step\n",
      "\u001b[1m1875/1875\u001b[0m \u001b[32m━━━━━━━━━━━━━━━━━━━━\u001b[0m\u001b[37m\u001b[0m \u001b[1m1s\u001b[0m 772us/step\n",
      "\u001b[1m1875/1875\u001b[0m \u001b[32m━━━━━━━━━━━━━━━━━━━━\u001b[0m\u001b[37m\u001b[0m \u001b[1m1s\u001b[0m 687us/step\n",
      "\u001b[1m1875/1875\u001b[0m \u001b[32m━━━━━━━━━━━━━━━━━━━━\u001b[0m\u001b[37m\u001b[0m \u001b[1m1s\u001b[0m 709us/step\n",
      "\u001b[1m1875/1875\u001b[0m \u001b[32m━━━━━━━━━━━━━━━━━━━━\u001b[0m\u001b[37m\u001b[0m \u001b[1m1s\u001b[0m 734us/step\n",
      "\u001b[1m1875/1875\u001b[0m \u001b[32m━━━━━━━━━━━━━━━━━━━━\u001b[0m\u001b[37m\u001b[0m \u001b[1m1s\u001b[0m 707us/step\n",
      "\u001b[1m1875/1875\u001b[0m \u001b[32m━━━━━━━━━━━━━━━━━━━━\u001b[0m\u001b[37m\u001b[0m \u001b[1m1s\u001b[0m 704us/step\n",
      "\u001b[1m1875/1875\u001b[0m \u001b[32m━━━━━━━━━━━━━━━━━━━━\u001b[0m\u001b[37m\u001b[0m \u001b[1m1s\u001b[0m 706us/step\n",
      "\u001b[1m1875/1875\u001b[0m \u001b[32m━━━━━━━━━━━━━━━━━━━━\u001b[0m\u001b[37m\u001b[0m \u001b[1m1s\u001b[0m 709us/step\n",
      "\u001b[1m1875/1875\u001b[0m \u001b[32m━━━━━━━━━━━━━━━━━━━━\u001b[0m\u001b[37m\u001b[0m \u001b[1m1s\u001b[0m 710us/step\n",
      "\u001b[1m1875/1875\u001b[0m \u001b[32m━━━━━━━━━━━━━━━━━━━━\u001b[0m\u001b[37m\u001b[0m \u001b[1m1s\u001b[0m 720us/step\n",
      "\u001b[1m1875/1875\u001b[0m \u001b[32m━━━━━━━━━━━━━━━━━━━━\u001b[0m\u001b[37m\u001b[0m \u001b[1m1s\u001b[0m 706us/step\n",
      "\u001b[1m1875/1875\u001b[0m \u001b[32m━━━━━━━━━━━━━━━━━━━━\u001b[0m\u001b[37m\u001b[0m \u001b[1m1s\u001b[0m 707us/step\n",
      "\u001b[1m1875/1875\u001b[0m \u001b[32m━━━━━━━━━━━━━━━━━━━━\u001b[0m\u001b[37m\u001b[0m \u001b[1m1s\u001b[0m 706us/step\n",
      "\u001b[1m1875/1875\u001b[0m \u001b[32m━━━━━━━━━━━━━━━━━━━━\u001b[0m\u001b[37m\u001b[0m \u001b[1m1s\u001b[0m 729us/step\n",
      "\u001b[1m1875/1875\u001b[0m \u001b[32m━━━━━━━━━━━━━━━━━━━━\u001b[0m\u001b[37m\u001b[0m \u001b[1m1s\u001b[0m 706us/step\n",
      "\u001b[1m1875/1875\u001b[0m \u001b[32m━━━━━━━━━━━━━━━━━━━━\u001b[0m\u001b[37m\u001b[0m \u001b[1m1s\u001b[0m 752us/step\n",
      "\u001b[1m1875/1875\u001b[0m \u001b[32m━━━━━━━━━━━━━━━━━━━━\u001b[0m\u001b[37m\u001b[0m \u001b[1m1s\u001b[0m 714us/step\n",
      "\u001b[1m1875/1875\u001b[0m \u001b[32m━━━━━━━━━━━━━━━━━━━━\u001b[0m\u001b[37m\u001b[0m \u001b[1m1s\u001b[0m 783us/step\n",
      "\u001b[1m1875/1875\u001b[0m \u001b[32m━━━━━━━━━━━━━━━━━━━━\u001b[0m\u001b[37m\u001b[0m \u001b[1m1s\u001b[0m 716us/step\n",
      "\u001b[1m1875/1875\u001b[0m \u001b[32m━━━━━━━━━━━━━━━━━━━━\u001b[0m\u001b[37m\u001b[0m \u001b[1m2s\u001b[0m 795us/step\n",
      "\u001b[1m1875/1875\u001b[0m \u001b[32m━━━━━━━━━━━━━━━━━━━━\u001b[0m\u001b[37m\u001b[0m \u001b[1m1s\u001b[0m 729us/step\n",
      "\u001b[1m1875/1875\u001b[0m \u001b[32m━━━━━━━━━━━━━━━━━━━━\u001b[0m\u001b[37m\u001b[0m \u001b[1m1s\u001b[0m 717us/step\n",
      "\u001b[1m1875/1875\u001b[0m \u001b[32m━━━━━━━━━━━━━━━━━━━━\u001b[0m\u001b[37m\u001b[0m \u001b[1m1s\u001b[0m 729us/step\n",
      "\u001b[1m1875/1875\u001b[0m \u001b[32m━━━━━━━━━━━━━━━━━━━━\u001b[0m\u001b[37m\u001b[0m \u001b[1m1s\u001b[0m 714us/step\n",
      "\u001b[1m1875/1875\u001b[0m \u001b[32m━━━━━━━━━━━━━━━━━━━━\u001b[0m\u001b[37m\u001b[0m \u001b[1m1s\u001b[0m 722us/step\n",
      "\u001b[1m1875/1875\u001b[0m \u001b[32m━━━━━━━━━━━━━━━━━━━━\u001b[0m\u001b[37m\u001b[0m \u001b[1m1s\u001b[0m 708us/step\n",
      "\u001b[1m1875/1875\u001b[0m \u001b[32m━━━━━━━━━━━━━━━━━━━━\u001b[0m\u001b[37m\u001b[0m \u001b[1m1s\u001b[0m 725us/step\n",
      "\u001b[1m1875/1875\u001b[0m \u001b[32m━━━━━━━━━━━━━━━━━━━━\u001b[0m\u001b[37m\u001b[0m \u001b[1m1s\u001b[0m 715us/step\n",
      "\u001b[1m1875/1875\u001b[0m \u001b[32m━━━━━━━━━━━━━━━━━━━━\u001b[0m\u001b[37m\u001b[0m \u001b[1m1s\u001b[0m 728us/step\n",
      "\u001b[1m1875/1875\u001b[0m \u001b[32m━━━━━━━━━━━━━━━━━━━━\u001b[0m\u001b[37m\u001b[0m \u001b[1m1s\u001b[0m 748us/step\n",
      "\u001b[1m1875/1875\u001b[0m \u001b[32m━━━━━━━━━━━━━━━━━━━━\u001b[0m\u001b[37m\u001b[0m \u001b[1m1s\u001b[0m 709us/step\n",
      "\u001b[1m1875/1875\u001b[0m \u001b[32m━━━━━━━━━━━━━━━━━━━━\u001b[0m\u001b[37m\u001b[0m \u001b[1m1s\u001b[0m 725us/step\n",
      "\u001b[1m1875/1875\u001b[0m \u001b[32m━━━━━━━━━━━━━━━━━━━━\u001b[0m\u001b[37m\u001b[0m \u001b[1m1s\u001b[0m 733us/step\n",
      "\u001b[1m1875/1875\u001b[0m \u001b[32m━━━━━━━━━━━━━━━━━━━━\u001b[0m\u001b[37m\u001b[0m \u001b[1m1s\u001b[0m 726us/step\n",
      "\u001b[1m1875/1875\u001b[0m \u001b[32m━━━━━━━━━━━━━━━━━━━━\u001b[0m\u001b[37m\u001b[0m \u001b[1m1s\u001b[0m 715us/step\n",
      "\u001b[1m1875/1875\u001b[0m \u001b[32m━━━━━━━━━━━━━━━━━━━━\u001b[0m\u001b[37m\u001b[0m \u001b[1m1s\u001b[0m 711us/step\n",
      "\u001b[1m1875/1875\u001b[0m \u001b[32m━━━━━━━━━━━━━━━━━━━━\u001b[0m\u001b[37m\u001b[0m \u001b[1m1s\u001b[0m 723us/step\n",
      "\u001b[1m1875/1875\u001b[0m \u001b[32m━━━━━━━━━━━━━━━━━━━━\u001b[0m\u001b[37m\u001b[0m \u001b[1m1s\u001b[0m 724us/step\n",
      "\u001b[1m1875/1875\u001b[0m \u001b[32m━━━━━━━━━━━━━━━━━━━━\u001b[0m\u001b[37m\u001b[0m \u001b[1m1s\u001b[0m 750us/step\n",
      "\u001b[1m1875/1875\u001b[0m \u001b[32m━━━━━━━━━━━━━━━━━━━━\u001b[0m\u001b[37m\u001b[0m \u001b[1m1s\u001b[0m 742us/step\n",
      "\u001b[1m1875/1875\u001b[0m \u001b[32m━━━━━━━━━━━━━━━━━━━━\u001b[0m\u001b[37m\u001b[0m \u001b[1m1s\u001b[0m 731us/step\n",
      "\u001b[1m1875/1875\u001b[0m \u001b[32m━━━━━━━━━━━━━━━━━━━━\u001b[0m\u001b[37m\u001b[0m \u001b[1m2s\u001b[0m 851us/step\n"
     ]
    }
   ],
   "source": [
    "# Perform genetic algorithm optimization\n",
    "schedule = mlrose_hiive.GeomDecay(init_temp=1.0, decay=0.99, min_temp=0.001)\n",
    "best_state, best_fitness, _ = mlrose_hiive.simulated_annealing(problem, schedule=schedule, max_attempts=10, max_iters=30, random_state=42)"
   ]
  },
  {
   "cell_type": "code",
   "execution_count": 17,
   "id": "ca50ef5e-1970-4f53-b303-4fb0b37be09e",
   "metadata": {},
   "outputs": [],
   "source": [
    "# Map the best state back to continuous weights\n",
    "best_continuous_weights = best_state / 10 - 1"
   ]
  },
  {
   "cell_type": "code",
   "execution_count": 18,
   "id": "b9488a90-5ba7-4c4f-9bf6-7ba7ac15f804",
   "metadata": {},
   "outputs": [],
   "source": [
    "# Reshape the optimized weights\n",
    "start = 0\n",
    "optimized_weights = []\n",
    "for w in initial_weights:\n",
    "    size = np.prod(w.shape)\n",
    "    optimized_weights.append(best_continuous_weights[start:start + size].reshape(w.shape))\n",
    "    start += size"
   ]
  },
  {
   "cell_type": "code",
   "execution_count": 19,
   "id": "c9907b68-9578-4067-bd34-b377fcbd3f10",
   "metadata": {},
   "outputs": [
    {
     "name": "stdout",
     "output_type": "stream",
     "text": [
      "Epoch 1/46\n",
      "\u001b[1m469/469\u001b[0m \u001b[32m━━━━━━━━━━━━━━━━━━━━\u001b[0m\u001b[37m\u001b[0m \u001b[1m1s\u001b[0m 2ms/step - accuracy: 0.4876 - loss: 24.4230\n",
      "Epoch 2/46\n",
      "\u001b[1m469/469\u001b[0m \u001b[32m━━━━━━━━━━━━━━━━━━━━\u001b[0m\u001b[37m\u001b[0m \u001b[1m1s\u001b[0m 2ms/step - accuracy: 0.8316 - loss: 3.0538\n",
      "Epoch 3/46\n",
      "\u001b[1m469/469\u001b[0m \u001b[32m━━━━━━━━━━━━━━━━━━━━\u001b[0m\u001b[37m\u001b[0m \u001b[1m1s\u001b[0m 2ms/step - accuracy: 0.8744 - loss: 1.7591\n",
      "Epoch 4/46\n",
      "\u001b[1m469/469\u001b[0m \u001b[32m━━━━━━━━━━━━━━━━━━━━\u001b[0m\u001b[37m\u001b[0m \u001b[1m1s\u001b[0m 2ms/step - accuracy: 0.8997 - loss: 1.1651\n",
      "Epoch 5/46\n",
      "\u001b[1m469/469\u001b[0m \u001b[32m━━━━━━━━━━━━━━━━━━━━\u001b[0m\u001b[37m\u001b[0m \u001b[1m1s\u001b[0m 2ms/step - accuracy: 0.9138 - loss: 0.8621\n",
      "Epoch 6/46\n",
      "\u001b[1m469/469\u001b[0m \u001b[32m━━━━━━━━━━━━━━━━━━━━\u001b[0m\u001b[37m\u001b[0m \u001b[1m1s\u001b[0m 2ms/step - accuracy: 0.9255 - loss: 0.6443\n",
      "Epoch 7/46\n",
      "\u001b[1m469/469\u001b[0m \u001b[32m━━━━━━━━━━━━━━━━━━━━\u001b[0m\u001b[37m\u001b[0m \u001b[1m1s\u001b[0m 2ms/step - accuracy: 0.9365 - loss: 0.4984\n",
      "Epoch 8/46\n",
      "\u001b[1m469/469\u001b[0m \u001b[32m━━━━━━━━━━━━━━━━━━━━\u001b[0m\u001b[37m\u001b[0m \u001b[1m1s\u001b[0m 2ms/step - accuracy: 0.9427 - loss: 0.4039\n",
      "Epoch 9/46\n",
      "\u001b[1m469/469\u001b[0m \u001b[32m━━━━━━━━━━━━━━━━━━━━\u001b[0m\u001b[37m\u001b[0m \u001b[1m1s\u001b[0m 2ms/step - accuracy: 0.9489 - loss: 0.3281\n",
      "Epoch 10/46\n",
      "\u001b[1m469/469\u001b[0m \u001b[32m━━━━━━━━━━━━━━━━━━━━\u001b[0m\u001b[37m\u001b[0m \u001b[1m1s\u001b[0m 2ms/step - accuracy: 0.9556 - loss: 0.2605\n",
      "Epoch 11/46\n",
      "\u001b[1m469/469\u001b[0m \u001b[32m━━━━━━━━━━━━━━━━━━━━\u001b[0m\u001b[37m\u001b[0m \u001b[1m1s\u001b[0m 2ms/step - accuracy: 0.9618 - loss: 0.2053\n",
      "Epoch 12/46\n",
      "\u001b[1m469/469\u001b[0m \u001b[32m━━━━━━━━━━━━━━━━━━━━\u001b[0m\u001b[37m\u001b[0m \u001b[1m1s\u001b[0m 2ms/step - accuracy: 0.9653 - loss: 0.1726\n",
      "Epoch 13/46\n",
      "\u001b[1m469/469\u001b[0m \u001b[32m━━━━━━━━━━━━━━━━━━━━\u001b[0m\u001b[37m\u001b[0m \u001b[1m1s\u001b[0m 2ms/step - accuracy: 0.9710 - loss: 0.1395\n",
      "Epoch 14/46\n",
      "\u001b[1m469/469\u001b[0m \u001b[32m━━━━━━━━━━━━━━━━━━━━\u001b[0m\u001b[37m\u001b[0m \u001b[1m1s\u001b[0m 2ms/step - accuracy: 0.9737 - loss: 0.1174\n",
      "Epoch 15/46\n",
      "\u001b[1m469/469\u001b[0m \u001b[32m━━━━━━━━━━━━━━━━━━━━\u001b[0m\u001b[37m\u001b[0m \u001b[1m1s\u001b[0m 2ms/step - accuracy: 0.9767 - loss: 0.0977\n",
      "Epoch 16/46\n",
      "\u001b[1m469/469\u001b[0m \u001b[32m━━━━━━━━━━━━━━━━━━━━\u001b[0m\u001b[37m\u001b[0m \u001b[1m1s\u001b[0m 2ms/step - accuracy: 0.9807 - loss: 0.0786\n",
      "Epoch 17/46\n",
      "\u001b[1m469/469\u001b[0m \u001b[32m━━━━━━━━━━━━━━━━━━━━\u001b[0m\u001b[37m\u001b[0m \u001b[1m1s\u001b[0m 2ms/step - accuracy: 0.9837 - loss: 0.0655\n",
      "Epoch 18/46\n",
      "\u001b[1m469/469\u001b[0m \u001b[32m━━━━━━━━━━━━━━━━━━━━\u001b[0m\u001b[37m\u001b[0m \u001b[1m1s\u001b[0m 2ms/step - accuracy: 0.9864 - loss: 0.0494\n",
      "Epoch 19/46\n",
      "\u001b[1m469/469\u001b[0m \u001b[32m━━━━━━━━━━━━━━━━━━━━\u001b[0m\u001b[37m\u001b[0m \u001b[1m1s\u001b[0m 2ms/step - accuracy: 0.9870 - loss: 0.0473\n",
      "Epoch 20/46\n",
      "\u001b[1m469/469\u001b[0m \u001b[32m━━━━━━━━━━━━━━━━━━━━\u001b[0m\u001b[37m\u001b[0m \u001b[1m1s\u001b[0m 2ms/step - accuracy: 0.9891 - loss: 0.0386\n",
      "Epoch 21/46\n",
      "\u001b[1m469/469\u001b[0m \u001b[32m━━━━━━━━━━━━━━━━━━━━\u001b[0m\u001b[37m\u001b[0m \u001b[1m1s\u001b[0m 2ms/step - accuracy: 0.9910 - loss: 0.0333\n",
      "Epoch 22/46\n",
      "\u001b[1m469/469\u001b[0m \u001b[32m━━━━━━━━━━━━━━━━━━━━\u001b[0m\u001b[37m\u001b[0m \u001b[1m1s\u001b[0m 2ms/step - accuracy: 0.9916 - loss: 0.0296\n",
      "Epoch 23/46\n",
      "\u001b[1m469/469\u001b[0m \u001b[32m━━━━━━━━━━━━━━━━━━━━\u001b[0m\u001b[37m\u001b[0m \u001b[1m1s\u001b[0m 2ms/step - accuracy: 0.9919 - loss: 0.0253\n",
      "Epoch 24/46\n",
      "\u001b[1m469/469\u001b[0m \u001b[32m━━━━━━━━━━━━━━━━━━━━\u001b[0m\u001b[37m\u001b[0m \u001b[1m1s\u001b[0m 2ms/step - accuracy: 0.9939 - loss: 0.0209\n",
      "Epoch 25/46\n",
      "\u001b[1m469/469\u001b[0m \u001b[32m━━━━━━━━━━━━━━━━━━━━\u001b[0m\u001b[37m\u001b[0m \u001b[1m1s\u001b[0m 2ms/step - accuracy: 0.9948 - loss: 0.0172\n",
      "Epoch 26/46\n",
      "\u001b[1m469/469\u001b[0m \u001b[32m━━━━━━━━━━━━━━━━━━━━\u001b[0m\u001b[37m\u001b[0m \u001b[1m1s\u001b[0m 2ms/step - accuracy: 0.9954 - loss: 0.0158\n",
      "Epoch 27/46\n",
      "\u001b[1m469/469\u001b[0m \u001b[32m━━━━━━━━━━━━━━━━━━━━\u001b[0m\u001b[37m\u001b[0m \u001b[1m1s\u001b[0m 2ms/step - accuracy: 0.9965 - loss: 0.0120\n",
      "Epoch 28/46\n",
      "\u001b[1m469/469\u001b[0m \u001b[32m━━━━━━━━━━━━━━━━━━━━\u001b[0m\u001b[37m\u001b[0m \u001b[1m1s\u001b[0m 2ms/step - accuracy: 0.9962 - loss: 0.0117\n",
      "Epoch 29/46\n",
      "\u001b[1m469/469\u001b[0m \u001b[32m━━━━━━━━━━━━━━━━━━━━\u001b[0m\u001b[37m\u001b[0m \u001b[1m1s\u001b[0m 2ms/step - accuracy: 0.9981 - loss: 0.0067\n",
      "Epoch 30/46\n",
      "\u001b[1m469/469\u001b[0m \u001b[32m━━━━━━━━━━━━━━━━━━━━\u001b[0m\u001b[37m\u001b[0m \u001b[1m1s\u001b[0m 2ms/step - accuracy: 0.9975 - loss: 0.0081\n",
      "Epoch 31/46\n",
      "\u001b[1m469/469\u001b[0m \u001b[32m━━━━━━━━━━━━━━━━━━━━\u001b[0m\u001b[37m\u001b[0m \u001b[1m1s\u001b[0m 2ms/step - accuracy: 0.9946 - loss: 0.0165\n",
      "Epoch 32/46\n",
      "\u001b[1m469/469\u001b[0m \u001b[32m━━━━━━━━━━━━━━━━━━━━\u001b[0m\u001b[37m\u001b[0m \u001b[1m1s\u001b[0m 2ms/step - accuracy: 0.9957 - loss: 0.0129\n",
      "Epoch 33/46\n",
      "\u001b[1m469/469\u001b[0m \u001b[32m━━━━━━━━━━━━━━━━━━━━\u001b[0m\u001b[37m\u001b[0m \u001b[1m1s\u001b[0m 2ms/step - accuracy: 0.9990 - loss: 0.0041\n",
      "Epoch 34/46\n",
      "\u001b[1m469/469\u001b[0m \u001b[32m━━━━━━━━━━━━━━━━━━━━\u001b[0m\u001b[37m\u001b[0m \u001b[1m1s\u001b[0m 2ms/step - accuracy: 0.9982 - loss: 0.0058\n",
      "Epoch 35/46\n",
      "\u001b[1m469/469\u001b[0m \u001b[32m━━━━━━━━━━━━━━━━━━━━\u001b[0m\u001b[37m\u001b[0m \u001b[1m1s\u001b[0m 2ms/step - accuracy: 0.9961 - loss: 0.0105\n",
      "Epoch 36/46\n",
      "\u001b[1m469/469\u001b[0m \u001b[32m━━━━━━━━━━━━━━━━━━━━\u001b[0m\u001b[37m\u001b[0m \u001b[1m1s\u001b[0m 2ms/step - accuracy: 0.9951 - loss: 0.0156\n",
      "Epoch 37/46\n",
      "\u001b[1m469/469\u001b[0m \u001b[32m━━━━━━━━━━━━━━━━━━━━\u001b[0m\u001b[37m\u001b[0m \u001b[1m1s\u001b[0m 2ms/step - accuracy: 0.9985 - loss: 0.0048\n",
      "Epoch 38/46\n",
      "\u001b[1m469/469\u001b[0m \u001b[32m━━━━━━━━━━━━━━━━━━━━\u001b[0m\u001b[37m\u001b[0m \u001b[1m1s\u001b[0m 2ms/step - accuracy: 0.9995 - loss: 0.0024\n",
      "Epoch 39/46\n",
      "\u001b[1m469/469\u001b[0m \u001b[32m━━━━━━━━━━━━━━━━━━━━\u001b[0m\u001b[37m\u001b[0m \u001b[1m1s\u001b[0m 2ms/step - accuracy: 1.0000 - loss: 7.6390e-04\n",
      "Epoch 40/46\n",
      "\u001b[1m469/469\u001b[0m \u001b[32m━━━━━━━━━━━━━━━━━━━━\u001b[0m\u001b[37m\u001b[0m \u001b[1m1s\u001b[0m 2ms/step - accuracy: 1.0000 - loss: 4.7698e-04\n",
      "Epoch 41/46\n",
      "\u001b[1m469/469\u001b[0m \u001b[32m━━━━━━━━━━━━━━━━━━━━\u001b[0m\u001b[37m\u001b[0m \u001b[1m1s\u001b[0m 2ms/step - accuracy: 1.0000 - loss: 3.3282e-04\n",
      "Epoch 42/46\n",
      "\u001b[1m469/469\u001b[0m \u001b[32m━━━━━━━━━━━━━━━━━━━━\u001b[0m\u001b[37m\u001b[0m \u001b[1m1s\u001b[0m 2ms/step - accuracy: 1.0000 - loss: 2.8944e-04\n",
      "Epoch 43/46\n",
      "\u001b[1m469/469\u001b[0m \u001b[32m━━━━━━━━━━━━━━━━━━━━\u001b[0m\u001b[37m\u001b[0m \u001b[1m1s\u001b[0m 2ms/step - accuracy: 1.0000 - loss: 2.3855e-04\n",
      "Epoch 44/46\n",
      "\u001b[1m469/469\u001b[0m \u001b[32m━━━━━━━━━━━━━━━━━━━━\u001b[0m\u001b[37m\u001b[0m \u001b[1m1s\u001b[0m 2ms/step - accuracy: 1.0000 - loss: 2.1237e-04\n",
      "Epoch 45/46\n",
      "\u001b[1m469/469\u001b[0m \u001b[32m━━━━━━━━━━━━━━━━━━━━\u001b[0m\u001b[37m\u001b[0m \u001b[1m1s\u001b[0m 2ms/step - accuracy: 1.0000 - loss: 1.8552e-04\n",
      "Epoch 46/46\n",
      "\u001b[1m469/469\u001b[0m \u001b[32m━━━━━━━━━━━━━━━━━━━━\u001b[0m\u001b[37m\u001b[0m \u001b[1m1s\u001b[0m 2ms/step - accuracy: 1.0000 - loss: 1.7278e-04\n",
      "Optimized Training Accuracy: 1.0000\n",
      "Optimized Testing Accuracy: 0.9563\n"
     ]
    }
   ],
   "source": [
    "# Create and compile the model with the optimized weights\n",
    "model_optimized = create_model(optimized_weights)\n",
    "model_optimized.fit(X_train_flattened, y_train, epochs=46, batch_size=128, verbose=1)\n",
    "\n",
    "# Evaluate the optimized model\n",
    "train_loss, train_accuracy = model_optimized.evaluate(X_train_flattened, y_train, verbose=0)\n",
    "test_loss, test_accuracy = model_optimized.evaluate(X_test_flattened, y_test, verbose=0)\n",
    "\n",
    "print(f'Optimized Training Accuracy: {train_accuracy:.4f}')\n",
    "print(f'Optimized Testing Accuracy: {test_accuracy:.4f}')"
   ]
  },
  {
   "cell_type": "code",
   "execution_count": 20,
   "id": "10e0d10a-ed7a-4635-a4d8-7dd889f484e0",
   "metadata": {},
   "outputs": [
    {
     "name": "stdout",
     "output_type": "stream",
     "text": [
      "\u001b[1m313/313\u001b[0m \u001b[32m━━━━━━━━━━━━━━━━━━━━\u001b[0m\u001b[37m\u001b[0m \u001b[1m1s\u001b[0m 811us/step\n"
     ]
    }
   ],
   "source": [
    "# Generate predictions for the test set\n",
    "y_pred_test_optimized = model_optimized.predict(X_test_flattened)\n",
    "y_pred_test_optimized_labels = np.argmax(y_pred_test_optimized, axis=1)\n",
    "y_test_labels = np.argmax(y_test, axis=1)"
   ]
  },
  {
   "cell_type": "code",
   "execution_count": 21,
   "id": "b24cbf35-3199-4ae9-a278-3ffa022bfd04",
   "metadata": {},
   "outputs": [
    {
     "name": "stdout",
     "output_type": "stream",
     "text": [
      "Classification Report:\n",
      "              precision    recall  f1-score   support\n",
      "\n",
      "           0       0.97      0.98      0.98       980\n",
      "           1       0.98      0.98      0.98      1135\n",
      "           2       0.96      0.94      0.95      1032\n",
      "           3       0.94      0.96      0.95      1010\n",
      "           4       0.96      0.96      0.96       982\n",
      "           5       0.94      0.94      0.94       892\n",
      "           6       0.96      0.96      0.96       958\n",
      "           7       0.96      0.95      0.96      1028\n",
      "           8       0.94      0.93      0.93       974\n",
      "           9       0.95      0.95      0.95      1009\n",
      "\n",
      "    accuracy                           0.96     10000\n",
      "   macro avg       0.96      0.96      0.96     10000\n",
      "weighted avg       0.96      0.96      0.96     10000\n",
      "\n"
     ]
    },
    {
     "data": {
      "image/png": "[encoded data removed]",
      "text/plain": [
       "<Figure size 1000x700 with 2 Axes>"
      ]
     },
     "metadata": {},
     "output_type": "display_data"
    }
   ],
   "source": [
    "from sklearn.metrics import classification_report, confusion_matrix\n",
    "import seaborn as sns\n",
    "import matplotlib.pyplot as plt\n",
    "\n",
    "# Generate classification report\n",
    "print(\"Classification Report:\")\n",
    "print(classification_report(y_test_labels, y_pred_test_optimized_labels))\n",
    "\n",
    "# Generate confusion matrix\n",
    "conf_matrix_optimized = confusion_matrix(y_test_labels, y_pred_test_optimized_labels)\n",
    "plt.figure(figsize=(10, 7))\n",
    "sns.heatmap(conf_matrix_optimized, annot=True, fmt='d', cmap='Blues')\n",
    "plt.xlabel('Predicted')\n",
    "plt.ylabel('True')\n",
    "plt.title('Optimized Confusion Matrix')\n",
    "plt.show()"
   ]
  },
  {
   "cell_type": "code",
   "execution_count": null,
   "id": "0c30c5cf-5be5-45ca-b91b-b5ccd954a7cf",
   "metadata": {},
   "outputs": [],
   "source": []
  }
 ],
 "metadata": {
  "kernelspec": {
   "display_name": "Python 3 (ipykernel)",
   "language": "python",
   "name": "python3"
  },
  "language_info": {
   "codemirror_mode": {
    "name": "ipython",
    "version": 3
   },
   "file_extension": ".py",
   "mimetype": "text/x-python",
   "name": "python",
   "nbconvert_exporter": "python",
   "pygments_lexer": "ipython3",
   "version": "3.9.19"
  }
 },
 "nbformat": 4,
 "nbformat_minor": 5
}
